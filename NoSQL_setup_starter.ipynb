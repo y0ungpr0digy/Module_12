{
 "cells": [
  {
   "cell_type": "markdown",
   "id": "9a57c4c6",
   "metadata": {},
   "source": [
    "# Eat Safe, Love"
   ]
  },
  {
   "cell_type": "markdown",
   "id": "064ef857",
   "metadata": {},
   "source": [
    "## Part 1: Database and Jupyter Notebook Set Up"
   ]
  },
  {
   "attachments": {},
   "cell_type": "markdown",
   "id": "664e3c1f",
   "metadata": {},
   "source": [
    "Import the data provided in the `establishments.json` file from your Terminal. Name the database `uk_food` and the collection `establishments`.\n",
    "\n",
    "Within this markdown cell, copy the line of text you used to import the data from your Terminal. This way, future analysts will be able to repeat your process.\n",
    "\n",
    "e.g.: Import the dataset with mongoimport --type json -d uk_food -c establishments --drop --jsonArray establishments.json"
   ]
  },
  {
   "cell_type": "code",
   "execution_count": 62,
   "id": "3ecdd008",
   "metadata": {},
   "outputs": [],
   "source": [
    "# Import dependencies\n",
    "from pymongo import MongoClient\n",
    "from pprint import pprint"
   ]
  },
  {
   "cell_type": "code",
   "execution_count": 2,
   "id": "59390c4a",
   "metadata": {},
   "outputs": [],
   "source": [
    "# Create an instance of MongoClient\n",
    "mongo = MongoClient(port=27017)"
   ]
  },
  {
   "cell_type": "code",
   "execution_count": 3,
   "id": "7f9ececa",
   "metadata": {},
   "outputs": [
    {
     "name": "stdout",
     "output_type": "stream",
     "text": [
      "['admin', 'config', 'local', 'uk_food']\n"
     ]
    }
   ],
   "source": [
    "# confirm that our new database was created\n",
    "print(mongo.list_database_names())"
   ]
  },
  {
   "cell_type": "code",
   "execution_count": 6,
   "id": "71e373c1",
   "metadata": {},
   "outputs": [],
   "source": [
    "# assign the uk_food database to a variable name\n",
    "db = mongo['uk_food']"
   ]
  },
  {
   "cell_type": "code",
   "execution_count": 63,
   "id": "ef1b89ed",
   "metadata": {},
   "outputs": [
    {
     "name": "stdout",
     "output_type": "stream",
     "text": [
      "['establishments', 'uk_food']\n"
     ]
    }
   ],
   "source": [
    "# review the collections in our new database\n",
    "print(db.list_collection_names())"
   ]
  },
  {
   "cell_type": "code",
   "execution_count": 64,
   "id": "18ab463c",
   "metadata": {},
   "outputs": [
    {
     "name": "stdout",
     "output_type": "stream",
     "text": [
      "['establishments', 'uk_food']\n"
     ]
    }
   ],
   "source": [
    "# review the collections in our new database\n",
    "print(db.list_collection_names())"
   ]
  },
  {
   "cell_type": "code",
   "execution_count": 65,
   "id": "6a0d92df",
   "metadata": {},
   "outputs": [
    {
     "data": {
      "text/plain": [
       "{'_id': ObjectId('645cb87fe850134df8f75f0d'),\n",
       " 'BusinessName': 'Penang Flavours',\n",
       " 'BusinessType': 'Restaurant/Cafe/Canteen',\n",
       " 'BusinessTypeID': '1',\n",
       " 'AddressLine1': 'Penang Flavours',\n",
       " 'AddressLine2': '146A Plumstead Rd',\n",
       " 'AddressLine3': 'London',\n",
       " 'AddressLine4': '',\n",
       " 'PostCode': 'SE18 7DY',\n",
       " 'Phone': '',\n",
       " 'LocalAuthorityCode': '511',\n",
       " 'LocalAuthorityName': 'Greenwich',\n",
       " 'LocalAuthorityWebSite': 'http://www.royalgreenwich.gov.uk',\n",
       " 'LocalAuthorityEmailAddress': 'health@royalgreenwich.gov.uk',\n",
       " 'scores': {'Hygiene': '', 'Structural': '', 'ConfidenceInManagement': ''},\n",
       " 'SchemeType': 'FHRS',\n",
       " 'geocode': {'longitude': '0.08384000', 'latitude': Decimal128('51.49014200')},\n",
       " 'RightToReply': '',\n",
       " 'Distance': 4623.972328074718,\n",
       " 'NewRatingPending': True}"
      ]
     },
     "execution_count": 65,
     "metadata": {},
     "output_type": "execute_result"
    }
   ],
   "source": [
    "# review a document in the establishments collection\n",
    "db.establishments.find_one()"
   ]
  },
  {
   "cell_type": "code",
   "execution_count": 18,
   "id": "11c9f11b",
   "metadata": {},
   "outputs": [
    {
     "data": {
      "text/plain": [
       "Collection(Database(MongoClient(host=['localhost:27017'], document_class=dict, tz_aware=False, connect=True), 'uk_food'), 'establishments')"
      ]
     },
     "execution_count": 18,
     "metadata": {},
     "output_type": "execute_result"
    }
   ],
   "source": [
    "# assign the collection to a variable\n",
    "establishments = db['establishments']\n",
    "establishments"
   ]
  },
  {
   "cell_type": "markdown",
   "id": "d5671434",
   "metadata": {},
   "source": [
    "## Part 2: Update the Database"
   ]
  },
  {
   "cell_type": "markdown",
   "id": "314bd884",
   "metadata": {},
   "source": [
    "1. An exciting new halal restaurant just opened in Greenwich, but hasn't been rated yet. The magazine has asked you to include it in your analysis. Add the following restaurant \"Penang Flavours\" to the database."
   ]
  },
  {
   "cell_type": "code",
   "execution_count": 66,
   "id": "c2da7648",
   "metadata": {},
   "outputs": [],
   "source": [
    "# Create a dictionary for the new restaurant data\n",
    "new_restaurant = {\n",
    "    \"BusinessName\":\"Penang Flavours\",\n",
    "    \"BusinessType\":\"Restaurant/Cafe/Canteen\",\n",
    "    \"BusinessTypeID\":\"\",\n",
    "    \"AddressLine1\":\"Penang Flavours\",\n",
    "    \"AddressLine2\":\"146A Plumstead Rd\",\n",
    "    \"AddressLine3\":\"London\",\n",
    "    \"AddressLine4\":\"\",\n",
    "    \"PostCode\":\"SE18 7DY\",\n",
    "    \"Phone\":\"\",\n",
    "    \"LocalAuthorityCode\":\"511\",\n",
    "    \"LocalAuthorityName\":\"Greenwich\",\n",
    "    \"LocalAuthorityWebSite\":\"http://www.royalgreenwich.gov.uk\",\n",
    "    \"LocalAuthorityEmailAddress\":\"health@royalgreenwich.gov.uk\",\n",
    "    \"scores\":{\n",
    "        \"Hygiene\":\"\",\n",
    "        \"Structural\":\"\",\n",
    "        \"ConfidenceInManagement\":\"\"\n",
    "    },\n",
    "    \"SchemeType\":\"FHRS\",\n",
    "    \"geocode\":{\n",
    "        \"longitude\":\"0.08384000\",\n",
    "        \"latitude\":\"51.49014200\"\n",
    "    },\n",
    "    \"RightToReply\":\"\",\n",
    "    \"Distance\":4623.9723280747176,\n",
    "    \"NewRatingPending\":True\n",
    "}"
   ]
  },
  {
   "cell_type": "code",
   "execution_count": 33,
   "id": "fabc38f0",
   "metadata": {},
   "outputs": [
    {
     "data": {
      "text/plain": [
       "<pymongo.results.DeleteResult at 0x7fc5d408fb80>"
      ]
     },
     "execution_count": 33,
     "metadata": {},
     "output_type": "execute_result"
    }
   ],
   "source": [
    "establishments.delete_one({\"BusinessName\":\"Penang Flavours\"})"
   ]
  },
  {
   "cell_type": "code",
   "execution_count": 67,
   "id": "a6e5cece",
   "metadata": {},
   "outputs": [
    {
     "data": {
      "text/plain": [
       "<pymongo.results.InsertOneResult at 0x7fc5d40a4c70>"
      ]
     },
     "execution_count": 67,
     "metadata": {},
     "output_type": "execute_result"
    }
   ],
   "source": [
    "# Insert the new restaurant into the collection\n",
    "establishments.insert_one(new_restaurant)"
   ]
  },
  {
   "cell_type": "code",
   "execution_count": 68,
   "id": "63bb10f9",
   "metadata": {},
   "outputs": [
    {
     "data": {
      "text/plain": [
       "[{'_id': ObjectId('645cb87fe850134df8f75f0d'),\n",
       "  'BusinessName': 'Penang Flavours',\n",
       "  'BusinessType': 'Restaurant/Cafe/Canteen',\n",
       "  'BusinessTypeID': '1',\n",
       "  'AddressLine1': 'Penang Flavours',\n",
       "  'AddressLine2': '146A Plumstead Rd',\n",
       "  'AddressLine3': 'London',\n",
       "  'AddressLine4': '',\n",
       "  'PostCode': 'SE18 7DY',\n",
       "  'Phone': '',\n",
       "  'LocalAuthorityCode': '511',\n",
       "  'LocalAuthorityName': 'Greenwich',\n",
       "  'LocalAuthorityWebSite': 'http://www.royalgreenwich.gov.uk',\n",
       "  'LocalAuthorityEmailAddress': 'health@royalgreenwich.gov.uk',\n",
       "  'scores': {'Hygiene': '', 'Structural': '', 'ConfidenceInManagement': ''},\n",
       "  'SchemeType': 'FHRS',\n",
       "  'geocode': {'longitude': '0.08384000',\n",
       "   'latitude': Decimal128('51.49014200')},\n",
       "  'RightToReply': '',\n",
       "  'Distance': 4623.972328074718,\n",
       "  'NewRatingPending': True},\n",
       " {'_id': ObjectId('645cb9ade850134df8f75f0e'),\n",
       "  'BusinessName': 'Penang Flavours',\n",
       "  'BusinessType': 'Restaurant/Cafe/Canteen',\n",
       "  'BusinessTypeID': '',\n",
       "  'AddressLine1': 'Penang Flavours',\n",
       "  'AddressLine2': '146A Plumstead Rd',\n",
       "  'AddressLine3': 'London',\n",
       "  'AddressLine4': '',\n",
       "  'PostCode': 'SE18 7DY',\n",
       "  'Phone': '',\n",
       "  'LocalAuthorityCode': '511',\n",
       "  'LocalAuthorityName': 'Greenwich',\n",
       "  'LocalAuthorityWebSite': 'http://www.royalgreenwich.gov.uk',\n",
       "  'LocalAuthorityEmailAddress': 'health@royalgreenwich.gov.uk',\n",
       "  'scores': {'Hygiene': '', 'Structural': '', 'ConfidenceInManagement': ''},\n",
       "  'SchemeType': 'FHRS',\n",
       "  'geocode': {'longitude': '0.08384000', 'latitude': '51.49014200'},\n",
       "  'RightToReply': '',\n",
       "  'Distance': 4623.972328074718,\n",
       "  'NewRatingPending': True}]"
      ]
     },
     "execution_count": 68,
     "metadata": {},
     "output_type": "execute_result"
    }
   ],
   "source": [
    "# Check that the new restaurant was inserted\n",
    "\n",
    "list(establishments.find({\"BusinessName\":\"Penang Flavours\"}))"
   ]
  },
  {
   "cell_type": "markdown",
   "id": "0ef4395a",
   "metadata": {},
   "source": [
    "2. Find the BusinessTypeID for \"Restaurant/Cafe/Canteen\" and return only the `BusinessTypeID` and `BusinessType` fields."
   ]
  },
  {
   "cell_type": "code",
   "execution_count": 69,
   "id": "93c63829",
   "metadata": {},
   "outputs": [
    {
     "data": {
      "text/plain": [
       "[{'_id': ObjectId('645cb87fe850134df8f75f0d'),\n",
       "  'BusinessType': 'Restaurant/Cafe/Canteen',\n",
       "  'BusinessTypeID': '1'},\n",
       " {'_id': ObjectId('645cb9ade850134df8f75f0e'),\n",
       "  'BusinessType': 'Restaurant/Cafe/Canteen',\n",
       "  'BusinessTypeID': ''}]"
      ]
     },
     "execution_count": 69,
     "metadata": {},
     "output_type": "execute_result"
    }
   ],
   "source": [
    "# Find the BusinessTypeID for \"Restaurant/Cafe/Canteen\" and return only the BusinessTypeID and BusinessType fields\n",
    "query = {'BusinessType': 'Restaurant/Cafe/Canteen'}\n",
    "fields = {'BusinessTypeID': 1, 'BusinessType': 1}\n",
    "list(establishments.find(query, fields))"
   ]
  },
  {
   "cell_type": "markdown",
   "id": "4e570caf",
   "metadata": {},
   "source": [
    "3. Update the new restaurant with the `BusinessTypeID` you found."
   ]
  },
  {
   "cell_type": "code",
   "execution_count": 70,
   "id": "7f599f3d",
   "metadata": {},
   "outputs": [
    {
     "data": {
      "text/plain": [
       "<pymongo.results.UpdateResult at 0x7fc5d40a4790>"
      ]
     },
     "execution_count": 70,
     "metadata": {},
     "output_type": "execute_result"
    }
   ],
   "source": [
    "# Update the new restaurant with the correct BusinessTypeID\n",
    "filter = {'BusinessName':'Penang Flavours'}\n",
    "new_value = {'$set': {'BusinessTypeID': '1'}}\n",
    "establishments.update_one(filter, new_value)"
   ]
  },
  {
   "cell_type": "code",
   "execution_count": 71,
   "id": "a6ad16f7",
   "metadata": {},
   "outputs": [
    {
     "data": {
      "text/plain": [
       "[{'_id': ObjectId('645cb87fe850134df8f75f0d'),\n",
       "  'BusinessName': 'Penang Flavours',\n",
       "  'BusinessType': 'Restaurant/Cafe/Canteen',\n",
       "  'BusinessTypeID': '1',\n",
       "  'AddressLine1': 'Penang Flavours',\n",
       "  'AddressLine2': '146A Plumstead Rd',\n",
       "  'AddressLine3': 'London',\n",
       "  'AddressLine4': '',\n",
       "  'PostCode': 'SE18 7DY',\n",
       "  'Phone': '',\n",
       "  'LocalAuthorityCode': '511',\n",
       "  'LocalAuthorityName': 'Greenwich',\n",
       "  'LocalAuthorityWebSite': 'http://www.royalgreenwich.gov.uk',\n",
       "  'LocalAuthorityEmailAddress': 'health@royalgreenwich.gov.uk',\n",
       "  'scores': {'Hygiene': '', 'Structural': '', 'ConfidenceInManagement': ''},\n",
       "  'SchemeType': 'FHRS',\n",
       "  'geocode': {'longitude': '0.08384000',\n",
       "   'latitude': Decimal128('51.49014200')},\n",
       "  'RightToReply': '',\n",
       "  'Distance': 4623.972328074718,\n",
       "  'NewRatingPending': True},\n",
       " {'_id': ObjectId('645cb9ade850134df8f75f0e'),\n",
       "  'BusinessName': 'Penang Flavours',\n",
       "  'BusinessType': 'Restaurant/Cafe/Canteen',\n",
       "  'BusinessTypeID': '',\n",
       "  'AddressLine1': 'Penang Flavours',\n",
       "  'AddressLine2': '146A Plumstead Rd',\n",
       "  'AddressLine3': 'London',\n",
       "  'AddressLine4': '',\n",
       "  'PostCode': 'SE18 7DY',\n",
       "  'Phone': '',\n",
       "  'LocalAuthorityCode': '511',\n",
       "  'LocalAuthorityName': 'Greenwich',\n",
       "  'LocalAuthorityWebSite': 'http://www.royalgreenwich.gov.uk',\n",
       "  'LocalAuthorityEmailAddress': 'health@royalgreenwich.gov.uk',\n",
       "  'scores': {'Hygiene': '', 'Structural': '', 'ConfidenceInManagement': ''},\n",
       "  'SchemeType': 'FHRS',\n",
       "  'geocode': {'longitude': '0.08384000', 'latitude': '51.49014200'},\n",
       "  'RightToReply': '',\n",
       "  'Distance': 4623.972328074718,\n",
       "  'NewRatingPending': True}]"
      ]
     },
     "execution_count": 71,
     "metadata": {},
     "output_type": "execute_result"
    }
   ],
   "source": [
    "# Confirm that the new restaurant was updated\n",
    "\n",
    "list(establishments.find({\"BusinessName\":\"Penang Flavours\"}))"
   ]
  },
  {
   "cell_type": "markdown",
   "id": "67281254",
   "metadata": {},
   "source": [
    "4. The magazine is not interested in any establishments in Dover, so check how many documents contain the Dover Local Authority. Then, remove any establishments within the Dover Local Authority from the database, and check the number of documents to ensure they were deleted."
   ]
  },
  {
   "cell_type": "code",
   "execution_count": 72,
   "id": "768474a6",
   "metadata": {},
   "outputs": [
    {
     "data": {
      "text/plain": [
       "0"
      ]
     },
     "execution_count": 72,
     "metadata": {},
     "output_type": "execute_result"
    }
   ],
   "source": [
    "# Find how many documents have LocalAuthorityName as \"Dover\"\n",
    "\n",
    "establishments.count_documents({'LocalAuthorityName': 'Dover'})"
   ]
  },
  {
   "cell_type": "code",
   "execution_count": 73,
   "id": "a11d5f1b",
   "metadata": {},
   "outputs": [
    {
     "data": {
      "text/plain": [
       "<pymongo.results.DeleteResult at 0x7fc5d41c1670>"
      ]
     },
     "execution_count": 73,
     "metadata": {},
     "output_type": "execute_result"
    }
   ],
   "source": [
    "# Delete all documents where LocalAuthorityName is \"Dover\"\n",
    "\n",
    "establishments.delete_many({'LocalAuthorityName': 'Dover'})"
   ]
  },
  {
   "cell_type": "code",
   "execution_count": 74,
   "id": "2a51aba0",
   "metadata": {},
   "outputs": [
    {
     "data": {
      "text/plain": [
       "0"
      ]
     },
     "execution_count": 74,
     "metadata": {},
     "output_type": "execute_result"
    }
   ],
   "source": [
    "# Check if any remaining documents include Dover\n",
    "\n",
    "establishments.count_documents({'LocalAuthorityName': 'Dover'})"
   ]
  },
  {
   "cell_type": "code",
   "execution_count": 75,
   "id": "8c356f7b",
   "metadata": {},
   "outputs": [
    {
     "data": {
      "text/plain": [
       "{'_id': ObjectId('645cb87fe850134df8f75f0d'),\n",
       " 'BusinessName': 'Penang Flavours',\n",
       " 'BusinessType': 'Restaurant/Cafe/Canteen',\n",
       " 'BusinessTypeID': '1',\n",
       " 'AddressLine1': 'Penang Flavours',\n",
       " 'AddressLine2': '146A Plumstead Rd',\n",
       " 'AddressLine3': 'London',\n",
       " 'AddressLine4': '',\n",
       " 'PostCode': 'SE18 7DY',\n",
       " 'Phone': '',\n",
       " 'LocalAuthorityCode': '511',\n",
       " 'LocalAuthorityName': 'Greenwich',\n",
       " 'LocalAuthorityWebSite': 'http://www.royalgreenwich.gov.uk',\n",
       " 'LocalAuthorityEmailAddress': 'health@royalgreenwich.gov.uk',\n",
       " 'scores': {'Hygiene': '', 'Structural': '', 'ConfidenceInManagement': ''},\n",
       " 'SchemeType': 'FHRS',\n",
       " 'geocode': {'longitude': '0.08384000', 'latitude': Decimal128('51.49014200')},\n",
       " 'RightToReply': '',\n",
       " 'Distance': 4623.972328074718,\n",
       " 'NewRatingPending': True}"
      ]
     },
     "execution_count": 75,
     "metadata": {},
     "output_type": "execute_result"
    }
   ],
   "source": [
    "# Check that other documents remain with 'find_one'\n",
    "establishments.find_one()"
   ]
  },
  {
   "attachments": {},
   "cell_type": "markdown",
   "id": "e9f1662d",
   "metadata": {},
   "source": [
    "5. Some of the number values are stored as strings, when they should be stored as numbers."
   ]
  },
  {
   "attachments": {},
   "cell_type": "markdown",
   "id": "c46df2df",
   "metadata": {},
   "source": [
    "Use `update_many` to convert `latitude` and `longitude` to decimal numbers."
   ]
  },
  {
   "cell_type": "code",
   "execution_count": 76,
   "id": "fd4112ce",
   "metadata": {},
   "outputs": [
    {
     "data": {
      "text/plain": [
       "<pymongo.results.UpdateResult at 0x7fc5d40fe9d0>"
      ]
     },
     "execution_count": 76,
     "metadata": {},
     "output_type": "execute_result"
    }
   ],
   "source": [
    "# Change the data type from String to Decimal for longitude and latitude\n",
    "\n",
    "establishments.updateestablishments.update_many({}, [ {'$set':{'geocode.longitude': {'$toDecimal': '$geocode.longitude'} }}])"
   ]
  },
  {
   "cell_type": "code",
   "execution_count": 58,
   "id": "ecdd467a",
   "metadata": {},
   "outputs": [
    {
     "data": {
      "text/plain": [
       "<pymongo.results.UpdateResult at 0x7fc5d1d0ae80>"
      ]
     },
     "execution_count": 58,
     "metadata": {},
     "output_type": "execute_result"
    }
   ],
   "source": [
    "establishments.update_many({}, [ {'$set':{'geocode.latitude': {'$toDecimal': '$geocode.latitude'} }}])"
   ]
  },
  {
   "attachments": {},
   "cell_type": "markdown",
   "id": "142e319c",
   "metadata": {},
   "source": [
    "Use `update_many` to convert `RatingValue` to integer numbers."
   ]
  },
  {
   "cell_type": "code",
   "execution_count": 59,
   "id": "04430a5b",
   "metadata": {},
   "outputs": [
    {
     "data": {
      "text/plain": [
       "<pymongo.results.UpdateResult at 0x7fc5d408fe80>"
      ]
     },
     "execution_count": 59,
     "metadata": {},
     "output_type": "execute_result"
    }
   ],
   "source": [
    "# Set non 1-5 Rating Values to Null\n",
    "non_ratings = [\"AwaitingInspection\", \"Awaiting Inspection\", \"AwaitingPublication\", \"Pass\", \"Exempt\"]\n",
    "establishments.update_many({\"RatingValue\": {\"$in\": non_ratings}}, [ {'$set':{ \"RatingValue\" : None}} ])"
   ]
  },
  {
   "cell_type": "code",
   "execution_count": 61,
   "id": "92524ccc",
   "metadata": {},
   "outputs": [],
   "source": [
    "# Change the data type from String to Integer for RatingValue\n"
   ]
  },
  {
   "cell_type": "code",
   "execution_count": 60,
   "id": "0deacaf9",
   "metadata": {},
   "outputs": [
    {
     "data": {
      "text/plain": [
       "[{'_id': ObjectId('645cb87fe850134df8f75f0d'),\n",
       "  'BusinessName': 'Penang Flavours',\n",
       "  'BusinessType': 'Restaurant/Cafe/Canteen',\n",
       "  'BusinessTypeID': '1',\n",
       "  'AddressLine1': 'Penang Flavours',\n",
       "  'AddressLine2': '146A Plumstead Rd',\n",
       "  'AddressLine3': 'London',\n",
       "  'AddressLine4': '',\n",
       "  'PostCode': 'SE18 7DY',\n",
       "  'Phone': '',\n",
       "  'LocalAuthorityCode': '511',\n",
       "  'LocalAuthorityName': 'Greenwich',\n",
       "  'LocalAuthorityWebSite': 'http://www.royalgreenwich.gov.uk',\n",
       "  'LocalAuthorityEmailAddress': 'health@royalgreenwich.gov.uk',\n",
       "  'scores': {'Hygiene': '', 'Structural': '', 'ConfidenceInManagement': ''},\n",
       "  'SchemeType': 'FHRS',\n",
       "  'geocode': {'longitude': '0.08384000',\n",
       "   'latitude': Decimal128('51.49014200')},\n",
       "  'RightToReply': '',\n",
       "  'Distance': 4623.972328074718,\n",
       "  'NewRatingPending': True}]"
      ]
     },
     "execution_count": 60,
     "metadata": {},
     "output_type": "execute_result"
    }
   ],
   "source": [
    "# Check that the coordinates and rating value are now numbers\n",
    "list(establishments.find({\"BusinessName\":\"Penang Flavours\"}))\n"
   ]
  }
 ],
 "metadata": {
  "kernelspec": {
   "display_name": "base",
   "language": "python",
   "name": "python3"
  },
  "language_info": {
   "codemirror_mode": {
    "name": "ipython",
    "version": 3
   },
   "file_extension": ".py",
   "mimetype": "text/x-python",
   "name": "python",
   "nbconvert_exporter": "python",
   "pygments_lexer": "ipython3",
   "version": "3.9.13 (main, Aug 25 2022, 18:29:29) \n[Clang 12.0.0 ]"
  },
  "vscode": {
   "interpreter": {
    "hash": "9fd59bc2f25ff9cb5c134abab3189051e16e38165ceb48e1dad4cc89c51afc9c"
   }
  }
 },
 "nbformat": 4,
 "nbformat_minor": 5
}
